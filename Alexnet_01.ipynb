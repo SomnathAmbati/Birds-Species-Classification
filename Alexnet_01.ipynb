{
  "cells": [
    {
      "cell_type": "code",
      "source": [
        "import zipfile\n",
        "import os\n",
        "\n",
        "def unzip_file(zip_path, extract_path):\n",
        "    with zipfile.ZipFile(zip_path, 'r') as zip_ref:\n",
        "        zip_ref.extractall(extract_path)\n",
        "\n",
        "# Example usage:\n",
        "zip_file_path = \"/content/drive/MyDrive/newexample (2).zip\"\n",
        "extracted_folder_path = \"/content/\"\n",
        "\n",
        "unzip_file(zip_file_path, extracted_folder_path)"
      ],
      "metadata": {
        "id": "CJW_sUgrRTA3"
      },
      "id": "CJW_sUgrRTA3",
      "execution_count": 51,
      "outputs": []
    },
    {
      "cell_type": "code",
      "execution_count": 52,
      "id": "a399e057",
      "metadata": {
        "id": "a399e057"
      },
      "outputs": [],
      "source": [
        "#Required import statements\n",
        "\n",
        "from keras.layers import Input, Lambda, Dense, Flatten\n",
        "from keras.models import Model\n",
        "from keras.preprocessing import image\n",
        "from keras.preprocessing.image import ImageDataGenerator\n",
        "from keras.models import Sequential\n",
        "import numpy as np\n",
        "from glob import glob\n",
        "import matplotlib.pyplot as plt\n",
        "import tensorflow.keras.applications\n",
        "from keras.models import Sequential\n",
        "from keras.layers import Conv2D, Dense, AveragePooling2D, MaxPool2D, Dropout, Flatten\n",
        "from keras.optimizers import Adam\n",
        "from keras.preprocessing.image import ImageDataGenerator\n",
        "from keras.callbacks import ReduceLROnPlateau\n",
        "\n",
        "import numpy as np\n",
        "from keras.layers import Dense,Flatten,Conv2D,Activation,Dropout\n",
        "from keras.models import Sequential, Model\n",
        "from keras.models import load_model\n",
        "from keras.optimizers import SGD\n",
        "from keras.callbacks import EarlyStopping,ModelCheckpoint\n",
        "from keras.layers import MaxPool2D\n",
        "from tensorflow.keras.layers import Conv2D, MaxPooling2D"
      ]
    },
    {
      "cell_type": "code",
      "execution_count": 53,
      "id": "058076cf",
      "metadata": {
        "id": "058076cf"
      },
      "outputs": [],
      "source": [
        "# Define the input shape for the model.\n",
        "# 224 x 224 pixels with 3 color channels (RGB).\n",
        "input_shape = (224, 224, 3)"
      ]
    },
    {
      "cell_type": "code",
      "execution_count": 54,
      "id": "7e738e16",
      "metadata": {
        "id": "7e738e16"
      },
      "outputs": [],
      "source": [
        "# Define the path to the directory containing the training dataset.\n",
        "train_directory = '/content/newexample/train'\n",
        "\n",
        "# Define the path to the directory containing the testing dataset.\n",
        "test_directory = '/content/newexample/test'\n",
        "\n",
        "# Define the path to the directory containing the validation dataset.\n",
        "val_directory = '/content/newexample/valid'\n"
      ]
    },
    {
      "cell_type": "code",
      "execution_count": 55,
      "id": "21b3fab2",
      "metadata": {
        "id": "21b3fab2"
      },
      "outputs": [],
      "source": [
        "# Define the input layer for the model.\n",
        "# 'input_shape' specifies the shape of the input data that the model expects.\n",
        "inputs = Input(shape=input_shape)"
      ]
    },
    {
      "cell_type": "code",
      "execution_count": 56,
      "id": "6a93f318",
      "metadata": {
        "colab": {
          "base_uri": "https://localhost:8080/"
        },
        "id": "6a93f318",
        "outputId": "59920c6b-6062-4eeb-eb0e-0345286833b9"
      },
      "outputs": [
        {
          "output_type": "stream",
          "name": "stdout",
          "text": [
            "Model: \"model_3\"\n",
            "_________________________________________________________________\n",
            " Layer (type)                Output Shape              Param #   \n",
            "=================================================================\n",
            " input_9 (InputLayer)        [(None, 224, 224, 3)]     0         \n",
            "                                                                 \n",
            " conv2d_20 (Conv2D)          (None, 54, 54, 96)        34944     \n",
            "                                                                 \n",
            " max_pooling2d_12 (MaxPooli  (None, 26, 26, 96)        0         \n",
            " ng2D)                                                           \n",
            "                                                                 \n",
            " conv2d_21 (Conv2D)          (None, 26, 26, 256)       614656    \n",
            "                                                                 \n",
            " max_pooling2d_13 (MaxPooli  (None, 12, 12, 256)       0         \n",
            " ng2D)                                                           \n",
            "                                                                 \n",
            " conv2d_22 (Conv2D)          (None, 12, 12, 384)       885120    \n",
            "                                                                 \n",
            " conv2d_23 (Conv2D)          (None, 12, 12, 384)       1327488   \n",
            "                                                                 \n",
            " conv2d_24 (Conv2D)          (None, 12, 12, 256)       884992    \n",
            "                                                                 \n",
            " max_pooling2d_14 (MaxPooli  (None, 5, 5, 256)         0         \n",
            " ng2D)                                                           \n",
            "                                                                 \n",
            " flatten_4 (Flatten)         (None, 6400)              0         \n",
            "                                                                 \n",
            " dense_12 (Dense)            (None, 4096)              26218496  \n",
            "                                                                 \n",
            " dense_13 (Dense)            (None, 4096)              16781312  \n",
            "                                                                 \n",
            " dense_14 (Dense)            (None, 10)                40970     \n",
            "                                                                 \n",
            "=================================================================\n",
            "Total params: 46787978 (178.48 MB)\n",
            "Trainable params: 46787978 (178.48 MB)\n",
            "Non-trainable params: 0 (0.00 Byte)\n",
            "_________________________________________________________________\n"
          ]
        }
      ],
      "source": [
        "from tensorflow.keras.models import Model\n",
        "from tensorflow.keras.layers import Input, Conv2D, MaxPooling2D, Flatten, Dense\n",
        "\n",
        "# Define the input layer\n",
        "inputs = Input(shape=(224, 224, 3))\n",
        "\n",
        "# First Convolutional Layer\n",
        "x = Conv2D(filters=96, kernel_size=(11, 11), strides=(4, 4), activation='relu')(inputs)\n",
        "x = MaxPooling2D(pool_size=(3, 3), strides=(2, 2))(x)\n",
        "\n",
        "# Second Convolutional Layer\n",
        "x = Conv2D(filters=256, kernel_size=(5, 5), strides=(1, 1), padding=\"same\", activation='relu')(x)\n",
        "x = MaxPooling2D(pool_size=(3, 3), strides=(2, 2))(x)\n",
        "\n",
        "# Third Convolutional Layer\n",
        "x = Conv2D(filters=384, kernel_size=(3, 3), strides=(1, 1), padding=\"same\", activation='relu')(x)\n",
        "\n",
        "# Fourth Convolutional Layer\n",
        "x = Conv2D(filters=384, kernel_size=(3, 3), strides=(1, 1), padding=\"same\", activation='relu')(x)\n",
        "\n",
        "# Fifth Convolutional Layer\n",
        "x = Conv2D(filters=256, kernel_size=(3, 3), strides=(1, 1), padding=\"same\", activation='relu')(x)\n",
        "x = MaxPooling2D(pool_size=(3, 3), strides=(2, 2))(x)\n",
        "\n",
        "# Flatten the output from the previous layer\n",
        "x = Flatten()(x)\n",
        "\n",
        "# Fully Connected Layers\n",
        "x = Dense(units=4096, activation='relu')(x)\n",
        "x = Dense(units=4096, activation='relu')(x)\n",
        "outputs = Dense(units=10, activation='softmax')(x)\n",
        "\n",
        "# Create the model\n",
        "model = Model(inputs=inputs, outputs=outputs)\n",
        "\n",
        "# Print model summary\n",
        "model.summary()\n"
      ]
    },
    {
      "cell_type": "code",
      "execution_count": 57,
      "id": "7a466474",
      "metadata": {
        "id": "7a466474"
      },
      "outputs": [],
      "source": [
        "# useful for getting the number of classes\n",
        "folders = glob('/content/newexample/train/*')\n",
        "\n",
        "# Number of Classes\n",
        "num_classes = len(folders)\n",
        "\n",
        "# Model Compilation\n",
        "model.compile(\n",
        "  loss='categorical_crossentropy',\n",
        "  optimizer='adam',\n",
        "  metrics=['accuracy']\n",
        ")\n"
      ]
    },
    {
      "cell_type": "code",
      "source": [
        "from google.colab import drive\n",
        "drive.mount('/content/drive')"
      ],
      "metadata": {
        "colab": {
          "base_uri": "https://localhost:8080/"
        },
        "id": "OtRWdL9aRbUy",
        "outputId": "155db9f0-85a8-44ed-f8c1-2bb4ba163086"
      },
      "id": "OtRWdL9aRbUy",
      "execution_count": 58,
      "outputs": [
        {
          "output_type": "stream",
          "name": "stdout",
          "text": [
            "Drive already mounted at /content/drive; to attempt to forcibly remount, call drive.mount(\"/content/drive\", force_remount=True).\n"
          ]
        }
      ]
    },
    {
      "cell_type": "code",
      "execution_count": 59,
      "id": "702b9059",
      "metadata": {
        "colab": {
          "base_uri": "https://localhost:8080/"
        },
        "id": "702b9059",
        "outputId": "6c0a230c-6440-4463-82d2-83ef2f9392f7"
      },
      "outputs": [
        {
          "output_type": "stream",
          "name": "stdout",
          "text": [
            "Found 1601 images belonging to 10 classes.\n",
            "Found 403 images belonging to 10 classes.\n",
            "51\n",
            "13\n",
            "Epoch 1/50\n",
            "51/51 [==============================] - 25s 431ms/step - loss: 2.4565 - accuracy: 0.1131 - val_loss: 2.2921 - val_accuracy: 0.1092\n",
            "Epoch 2/50\n",
            "51/51 [==============================] - 21s 402ms/step - loss: 2.1825 - accuracy: 0.1768 - val_loss: 2.1217 - val_accuracy: 0.1935\n",
            "Epoch 3/50\n",
            "51/51 [==============================] - 24s 464ms/step - loss: 2.0014 - accuracy: 0.2630 - val_loss: 1.9177 - val_accuracy: 0.3275\n",
            "Epoch 4/50\n",
            "51/51 [==============================] - 21s 418ms/step - loss: 1.8165 - accuracy: 0.3223 - val_loss: 1.6809 - val_accuracy: 0.3598\n",
            "Epoch 5/50\n",
            "51/51 [==============================] - 23s 443ms/step - loss: 1.7932 - accuracy: 0.3385 - val_loss: 1.6332 - val_accuracy: 0.4045\n",
            "Epoch 6/50\n",
            "51/51 [==============================] - 20s 397ms/step - loss: 1.6964 - accuracy: 0.3773 - val_loss: 1.5360 - val_accuracy: 0.4516\n",
            "Epoch 7/50\n",
            "51/51 [==============================] - 22s 433ms/step - loss: 1.5389 - accuracy: 0.4478 - val_loss: 1.4565 - val_accuracy: 0.4318\n",
            "Epoch 8/50\n",
            "51/51 [==============================] - 22s 431ms/step - loss: 1.5761 - accuracy: 0.4478 - val_loss: 1.5032 - val_accuracy: 0.4615\n",
            "Epoch 9/50\n",
            "51/51 [==============================] - 23s 445ms/step - loss: 1.4951 - accuracy: 0.4672 - val_loss: 1.4212 - val_accuracy: 0.5211\n",
            "Epoch 10/50\n",
            "51/51 [==============================] - 21s 412ms/step - loss: 1.3480 - accuracy: 0.5209 - val_loss: 1.2263 - val_accuracy: 0.5931\n",
            "Epoch 11/50\n",
            "51/51 [==============================] - 21s 406ms/step - loss: 1.3089 - accuracy: 0.5465 - val_loss: 1.1656 - val_accuracy: 0.5831\n",
            "Epoch 12/50\n",
            "51/51 [==============================] - 20s 396ms/step - loss: 1.2358 - accuracy: 0.5709 - val_loss: 1.3487 - val_accuracy: 0.5558\n",
            "Epoch 13/50\n",
            "51/51 [==============================] - 22s 432ms/step - loss: 1.2505 - accuracy: 0.5628 - val_loss: 1.1272 - val_accuracy: 0.5906\n",
            "Epoch 14/50\n",
            "51/51 [==============================] - 23s 440ms/step - loss: 1.1335 - accuracy: 0.6071 - val_loss: 0.9492 - val_accuracy: 0.6849\n",
            "Epoch 15/50\n",
            "51/51 [==============================] - 22s 435ms/step - loss: 1.0044 - accuracy: 0.6665 - val_loss: 1.0494 - val_accuracy: 0.6576\n",
            "Epoch 16/50\n",
            "51/51 [==============================] - 20s 397ms/step - loss: 1.0714 - accuracy: 0.6284 - val_loss: 0.9526 - val_accuracy: 0.6625\n",
            "Epoch 17/50\n",
            "51/51 [==============================] - 22s 430ms/step - loss: 0.9869 - accuracy: 0.6515 - val_loss: 0.8987 - val_accuracy: 0.6898\n",
            "Epoch 18/50\n",
            "51/51 [==============================] - 20s 402ms/step - loss: 0.8431 - accuracy: 0.7146 - val_loss: 0.7149 - val_accuracy: 0.7444\n",
            "Epoch 19/50\n",
            "51/51 [==============================] - 22s 418ms/step - loss: 0.8072 - accuracy: 0.7171 - val_loss: 0.6310 - val_accuracy: 0.8015\n",
            "Epoch 20/50\n",
            "51/51 [==============================] - 22s 435ms/step - loss: 0.7896 - accuracy: 0.7202 - val_loss: 0.6982 - val_accuracy: 0.7742\n",
            "Epoch 21/50\n",
            "51/51 [==============================] - 21s 402ms/step - loss: 0.7122 - accuracy: 0.7470 - val_loss: 0.5721 - val_accuracy: 0.8065\n",
            "Epoch 22/50\n",
            "51/51 [==============================] - 22s 427ms/step - loss: 0.9270 - accuracy: 0.6752 - val_loss: 0.5856 - val_accuracy: 0.8139\n",
            "Epoch 23/50\n",
            "51/51 [==============================] - 20s 397ms/step - loss: 0.6931 - accuracy: 0.7508 - val_loss: 0.5402 - val_accuracy: 0.7940\n",
            "Epoch 24/50\n",
            "51/51 [==============================] - 22s 429ms/step - loss: 0.6400 - accuracy: 0.7726 - val_loss: 0.5722 - val_accuracy: 0.7916\n",
            "Epoch 25/50\n",
            "51/51 [==============================] - 23s 460ms/step - loss: 0.5688 - accuracy: 0.8032 - val_loss: 0.4544 - val_accuracy: 0.8313\n",
            "Epoch 26/50\n",
            "51/51 [==============================] - 21s 401ms/step - loss: 0.6166 - accuracy: 0.7958 - val_loss: 0.4021 - val_accuracy: 0.8734\n",
            "Epoch 27/50\n",
            "51/51 [==============================] - 21s 411ms/step - loss: 0.5348 - accuracy: 0.8107 - val_loss: 0.3563 - val_accuracy: 0.8834\n",
            "Epoch 28/50\n",
            "51/51 [==============================] - 21s 411ms/step - loss: 0.4835 - accuracy: 0.8264 - val_loss: 0.3381 - val_accuracy: 0.8933\n",
            "Epoch 29/50\n",
            "51/51 [==============================] - 22s 431ms/step - loss: 0.4505 - accuracy: 0.8351 - val_loss: 0.2487 - val_accuracy: 0.9082\n",
            "Epoch 30/50\n",
            "51/51 [==============================] - 20s 398ms/step - loss: 0.4405 - accuracy: 0.8420 - val_loss: 0.3238 - val_accuracy: 0.9032\n",
            "Epoch 31/50\n",
            "51/51 [==============================] - 24s 468ms/step - loss: 0.4295 - accuracy: 0.8413 - val_loss: 0.3596 - val_accuracy: 0.8759\n",
            "Epoch 32/50\n",
            "51/51 [==============================] - 21s 404ms/step - loss: 0.3823 - accuracy: 0.8695 - val_loss: 0.2562 - val_accuracy: 0.8958\n",
            "Epoch 33/50\n",
            "51/51 [==============================] - 22s 418ms/step - loss: 0.4620 - accuracy: 0.8382 - val_loss: 0.2805 - val_accuracy: 0.8958\n",
            "Epoch 34/50\n",
            "51/51 [==============================] - 22s 427ms/step - loss: 0.3830 - accuracy: 0.8626 - val_loss: 0.2214 - val_accuracy: 0.9206\n",
            "Epoch 35/50\n",
            "51/51 [==============================] - 22s 429ms/step - loss: 0.3431 - accuracy: 0.8857 - val_loss: 0.3040 - val_accuracy: 0.9007\n",
            "Epoch 36/50\n",
            "51/51 [==============================] - 22s 436ms/step - loss: 0.2748 - accuracy: 0.9044 - val_loss: 0.1688 - val_accuracy: 0.9479\n",
            "Epoch 37/50\n",
            "51/51 [==============================] - 24s 469ms/step - loss: 0.3362 - accuracy: 0.8813 - val_loss: 0.2410 - val_accuracy: 0.9256\n",
            "Epoch 38/50\n",
            "51/51 [==============================] - 21s 408ms/step - loss: 0.3271 - accuracy: 0.8926 - val_loss: 0.2619 - val_accuracy: 0.9032\n",
            "Epoch 39/50\n",
            "51/51 [==============================] - 22s 430ms/step - loss: 0.2542 - accuracy: 0.9144 - val_loss: 0.1964 - val_accuracy: 0.9280\n",
            "Epoch 40/50\n",
            "51/51 [==============================] - 20s 400ms/step - loss: 0.2553 - accuracy: 0.9144 - val_loss: 0.1485 - val_accuracy: 0.9404\n",
            "Epoch 41/50\n",
            "51/51 [==============================] - 22s 430ms/step - loss: 0.2435 - accuracy: 0.9144 - val_loss: 0.1878 - val_accuracy: 0.9404\n",
            "Epoch 42/50\n",
            "51/51 [==============================] - 21s 416ms/step - loss: 0.2531 - accuracy: 0.9132 - val_loss: 0.2237 - val_accuracy: 0.9330\n",
            "Epoch 43/50\n",
            "51/51 [==============================] - 24s 467ms/step - loss: 0.2602 - accuracy: 0.9107 - val_loss: 0.1420 - val_accuracy: 0.9553\n",
            "Epoch 44/50\n",
            "51/51 [==============================] - 22s 435ms/step - loss: 0.2021 - accuracy: 0.9350 - val_loss: 0.0829 - val_accuracy: 0.9752\n",
            "Epoch 45/50\n",
            "51/51 [==============================] - 21s 415ms/step - loss: 0.1393 - accuracy: 0.9557 - val_loss: 0.0938 - val_accuracy: 0.9752\n",
            "Epoch 46/50\n",
            "51/51 [==============================] - 22s 434ms/step - loss: 0.1904 - accuracy: 0.9344 - val_loss: 0.1312 - val_accuracy: 0.9603\n",
            "Epoch 47/50\n",
            "51/51 [==============================] - 20s 403ms/step - loss: 0.2990 - accuracy: 0.8969 - val_loss: 0.2731 - val_accuracy: 0.9132\n",
            "Epoch 48/50\n",
            "51/51 [==============================] - 24s 469ms/step - loss: 0.2018 - accuracy: 0.9275 - val_loss: 0.1653 - val_accuracy: 0.9653\n",
            "Epoch 49/50\n",
            "51/51 [==============================] - 22s 429ms/step - loss: 0.2270 - accuracy: 0.9325 - val_loss: 0.2227 - val_accuracy: 0.9355\n",
            "Epoch 50/50\n",
            "51/51 [==============================] - 21s 401ms/step - loss: 0.2177 - accuracy: 0.9238 - val_loss: 0.1499 - val_accuracy: 0.9578\n"
          ]
        }
      ],
      "source": [
        "from keras.preprocessing.image import ImageDataGenerator\n",
        "\n",
        "# Data Augmentation for Training\n",
        "train_datagen = ImageDataGenerator(rescale=1./255,\n",
        "                                   shear_range=0.2,\n",
        "                                   zoom_range=0.2,\n",
        "                                   horizontal_flip=True)\n",
        "\n",
        "# Data Preprocessing for Testing (only rescaling)\n",
        "test_datagen = ImageDataGenerator(rescale=1./255)\n",
        "\n",
        "# Training Data Generator\n",
        "training_set = train_datagen.flow_from_directory(train_directory,\n",
        "                                                 target_size=(224, 224),\n",
        "                                                 batch_size=32,\n",
        "                                                 class_mode='categorical')\n",
        "\n",
        "# Testing Data Generator\n",
        "test_set = test_datagen.flow_from_directory(test_directory,\n",
        "                                            target_size=(224, 224),\n",
        "                                            batch_size=32,\n",
        "                                            class_mode='categorical')\n",
        "\n",
        "# Print Number of Batches for Training and Testing\n",
        "print(len(training_set))\n",
        "print(len(test_set))\n",
        "\n",
        "# Model Training\n",
        "r = model.fit(\n",
        "    training_set,\n",
        "    validation_data=test_set,\n",
        "    epochs=50,\n",
        "    steps_per_epoch=len(training_set),\n",
        "    validation_steps=len(test_set)\n",
        ")\n"
      ]
    },
    {
      "cell_type": "code",
      "execution_count": 60,
      "id": "6eea57a8",
      "metadata": {
        "colab": {
          "base_uri": "https://localhost:8080/",
          "height": 430
        },
        "id": "6eea57a8",
        "outputId": "e4c4e26e-9a5f-4bf9-c3e2-ba6c5649ef9d"
      },
      "outputs": [
        {
          "output_type": "display_data",
          "data": {
            "text/plain": [
              "<Figure size 640x480 with 1 Axes>"
            ],
            "image/png": "[encoded data removed]"
          },
          "metadata": {}
        }
      ],
      "source": [
        "# Loss\n",
        "plt.plot(r.history['loss'], label='train loss')\n",
        "if 'val_loss' in r.history:\n",
        "    plt.plot(r.history['val_loss'], label='val loss')\n",
        "plt.legend()\n",
        "plt.show()"
      ]
    },
    {
      "cell_type": "code",
      "execution_count": 61,
      "id": "80ae16dd",
      "metadata": {
        "colab": {
          "base_uri": "https://localhost:8080/",
          "height": 430
        },
        "id": "80ae16dd",
        "outputId": "0ad21924-71b1-46bb-ad5d-e33e39630c37"
      },
      "outputs": [
        {
          "output_type": "display_data",
          "data": {
            "text/plain": [
              "<Figure size 640x480 with 1 Axes>"
            ],
            "image/png": "[encoded data removed]"
          },
          "metadata": {}
        }
      ],
      "source": [
        "# Accuracy Plot\n",
        "plt.plot(r.history['accuracy'], label='train acc')\n",
        "\n",
        "# Check if validation accuracy exists in the history\n",
        "if 'val_accuracy' in r.history:\n",
        "    plt.plot(r.history['val_accuracy'], label='val acc')\n",
        "\n",
        "# Show the legend in the plot\n",
        "plt.legend()\n",
        "\n",
        "# Display the plot\n",
        "plt.show()\n",
        "\n",
        "# Save the Model\n",
        "model.save('Alexnet.h5')\n"
      ]
    },
    {
      "cell_type": "code",
      "execution_count": 62,
      "id": "3e71677b",
      "metadata": {
        "id": "3e71677b"
      },
      "outputs": [],
      "source": [
        "from keras.models import load_model\n",
        "from tensorflow.keras.preprocessing.image import load_img\n",
        "from tensorflow.keras.utils import img_to_array\n",
        "\n",
        "# Load the pre-trained model\n",
        "model1 = load_model('./Alexnet.h5', compile=False)\n",
        "\n",
        "# Get the class indices from the training data generator\n",
        "lab = training_set.class_indices\n",
        "\n",
        "# Reverse the class indices to get a dictionary with class names as keys and indices as values\n",
        "lab = {k: v for v, k in lab.items()}\n"
      ]
    },
    {
      "cell_type": "code",
      "execution_count": 63,
      "id": "a80069e6",
      "metadata": {
        "id": "a80069e6"
      },
      "outputs": [],
      "source": [
        "def output(location):\n",
        "    # Load and preprocess the image from the given location\n",
        "    img = load_img(location, target_size=(224, 224, 3))\n",
        "    img = img_to_array(img)\n",
        "    img = img / 255  # Normalize pixel values to be between 0 and 1\n",
        "    img = np.expand_dims(img, [0])  # Add a batch dimension to the image\n",
        "\n",
        "    # Make predictions using the loaded model\n",
        "    answer = model1.predict(img)\n",
        "\n",
        "    # Get the class index with the highest probability\n",
        "    y_class = answer.argmax(axis=-1)\n",
        "\n",
        "    # Convert the class index to an integer and get the corresponding class name\n",
        "    y = int(y_class)\n",
        "    res = lab[y]\n",
        "\n",
        "    # Return the predicted class name\n",
        "    return res\n"
      ]
    },
    {
      "cell_type": "code",
      "execution_count": 64,
      "id": "5344a73e",
      "metadata": {
        "colab": {
          "base_uri": "https://localhost:8080/",
          "height": 349
        },
        "id": "5344a73e",
        "outputId": "fbc5f2ef-b0d4-46d2-cb6c-768d15342f2c"
      },
      "outputs": [
        {
          "output_type": "error",
          "ename": "FileNotFoundError",
          "evalue": "[Errno 2] No such file or directory: 'D:/D Downloads/data set/10_birdspecies__dataset/test/AZURE JAY/1.jpg'",
          "traceback": [
            "\u001b[0;31m---------------------------------------------------------------------------\u001b[0m",
            "\u001b[0;31mFileNotFoundError\u001b[0m                         Traceback (most recent call last)",
            "\u001b[0;32m<ipython-input-64-a719b084d248>\u001b[0m in \u001b[0;36m<cell line: 4>\u001b[0;34m()\u001b[0m\n\u001b[1;32m      2\u001b[0m \u001b[0mimg\u001b[0m\u001b[0;34m=\u001b[0m\u001b[0;34m'D:/D Downloads/data set/10_birdspecies__dataset/test/AZURE JAY/1.jpg'\u001b[0m\u001b[0;34m\u001b[0m\u001b[0;34m\u001b[0m\u001b[0m\n\u001b[1;32m      3\u001b[0m \u001b[0;31m# Load and Display the Image\u001b[0m\u001b[0;34m\u001b[0m\u001b[0;34m\u001b[0m\u001b[0m\n\u001b[0;32m----> 4\u001b[0;31m \u001b[0mpic\u001b[0m\u001b[0;34m=\u001b[0m\u001b[0mload_img\u001b[0m\u001b[0;34m(\u001b[0m\u001b[0;34m'D:/D Downloads/data set/10_birdspecies__dataset/test/AZURE JAY/1.jpg'\u001b[0m\u001b[0;34m,\u001b[0m\u001b[0mtarget_size\u001b[0m\u001b[0;34m=\u001b[0m\u001b[0;34m(\u001b[0m\u001b[0;36m224\u001b[0m\u001b[0;34m,\u001b[0m\u001b[0;36m224\u001b[0m\u001b[0;34m,\u001b[0m\u001b[0;36m3\u001b[0m\u001b[0;34m)\u001b[0m\u001b[0;34m)\u001b[0m\u001b[0;34m\u001b[0m\u001b[0;34m\u001b[0m\u001b[0m\n\u001b[0m\u001b[1;32m      5\u001b[0m \u001b[0mplt\u001b[0m\u001b[0;34m.\u001b[0m\u001b[0mimshow\u001b[0m\u001b[0;34m(\u001b[0m\u001b[0mpic\u001b[0m\u001b[0;34m)\u001b[0m\u001b[0;34m\u001b[0m\u001b[0;34m\u001b[0m\u001b[0m\n\u001b[1;32m      6\u001b[0m \u001b[0moutput\u001b[0m\u001b[0;34m(\u001b[0m\u001b[0mimg\u001b[0m\u001b[0;34m)\u001b[0m\u001b[0;34m\u001b[0m\u001b[0;34m\u001b[0m\u001b[0m\n",
            "\u001b[0;32m/usr/local/lib/python3.10/dist-packages/keras/src/utils/image_utils.py\u001b[0m in \u001b[0;36mload_img\u001b[0;34m(path, grayscale, color_mode, target_size, interpolation, keep_aspect_ratio)\u001b[0m\n\u001b[1;32m    420\u001b[0m         \u001b[0;32mif\u001b[0m \u001b[0misinstance\u001b[0m\u001b[0;34m(\u001b[0m\u001b[0mpath\u001b[0m\u001b[0;34m,\u001b[0m \u001b[0mpathlib\u001b[0m\u001b[0;34m.\u001b[0m\u001b[0mPath\u001b[0m\u001b[0;34m)\u001b[0m\u001b[0;34m:\u001b[0m\u001b[0;34m\u001b[0m\u001b[0;34m\u001b[0m\u001b[0m\n\u001b[1;32m    421\u001b[0m             \u001b[0mpath\u001b[0m \u001b[0;34m=\u001b[0m \u001b[0mstr\u001b[0m\u001b[0;34m(\u001b[0m\u001b[0mpath\u001b[0m\u001b[0;34m.\u001b[0m\u001b[0mresolve\u001b[0m\u001b[0;34m(\u001b[0m\u001b[0;34m)\u001b[0m\u001b[0;34m)\u001b[0m\u001b[0;34m\u001b[0m\u001b[0;34m\u001b[0m\u001b[0m\n\u001b[0;32m--> 422\u001b[0;31m         \u001b[0;32mwith\u001b[0m \u001b[0mopen\u001b[0m\u001b[0;34m(\u001b[0m\u001b[0mpath\u001b[0m\u001b[0;34m,\u001b[0m \u001b[0;34m\"rb\"\u001b[0m\u001b[0;34m)\u001b[0m \u001b[0;32mas\u001b[0m \u001b[0mf\u001b[0m\u001b[0;34m:\u001b[0m\u001b[0;34m\u001b[0m\u001b[0;34m\u001b[0m\u001b[0m\n\u001b[0m\u001b[1;32m    423\u001b[0m             \u001b[0mimg\u001b[0m \u001b[0;34m=\u001b[0m \u001b[0mpil_image\u001b[0m\u001b[0;34m.\u001b[0m\u001b[0mopen\u001b[0m\u001b[0;34m(\u001b[0m\u001b[0mio\u001b[0m\u001b[0;34m.\u001b[0m\u001b[0mBytesIO\u001b[0m\u001b[0;34m(\u001b[0m\u001b[0mf\u001b[0m\u001b[0;34m.\u001b[0m\u001b[0mread\u001b[0m\u001b[0;34m(\u001b[0m\u001b[0;34m)\u001b[0m\u001b[0;34m)\u001b[0m\u001b[0;34m)\u001b[0m\u001b[0;34m\u001b[0m\u001b[0;34m\u001b[0m\u001b[0m\n\u001b[1;32m    424\u001b[0m     \u001b[0;32melse\u001b[0m\u001b[0;34m:\u001b[0m\u001b[0;34m\u001b[0m\u001b[0;34m\u001b[0m\u001b[0m\n",
            "\u001b[0;31mFileNotFoundError\u001b[0m: [Errno 2] No such file or directory: 'D:/D Downloads/data set/10_birdspecies__dataset/test/AZURE JAY/1.jpg'"
          ]
        }
      ],
      "source": [
        "# Image File Path\n",
        "img='D:/D Downloads/data set/10_birdspecies__dataset/test/AZURE JAY/1.jpg'\n",
        "# Load and Display the Image\n",
        "pic=load_img('D:/D Downloads/data set/10_birdspecies__dataset/test/AZURE JAY/1.jpg',target_size=(224,224,3))\n",
        "plt.imshow(pic)\n",
        "output(img)"
      ]
    },
    {
      "cell_type": "code",
      "execution_count": null,
      "id": "9d737b93",
      "metadata": {
        "id": "9d737b93"
      },
      "outputs": [],
      "source": []
    }
  ],
  "metadata": {
    "kernelspec": {
      "display_name": "Python 3",
      "name": "python3"
    },
    "language_info": {
      "codemirror_mode": {
        "name": "ipython",
        "version": 3
      },
      "file_extension": ".py",
      "mimetype": "text/x-python",
      "name": "python",
      "nbconvert_exporter": "python",
      "pygments_lexer": "ipython3",
      "version": "3.11.3"
    },
    "colab": {
      "provenance": [],
      "gpuType": "T4"
    },
    "accelerator": "GPU"
  },
  "nbformat": 4,
  "nbformat_minor": 5
}